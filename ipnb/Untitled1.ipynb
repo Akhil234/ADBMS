{
 "cells": [
  {
   "cell_type": "code",
   "execution_count": 4,
   "id": "e263e183-c79e-4733-95ee-05eda2e01211",
   "metadata": {},
   "outputs": [
    {
     "name": "stdout",
     "output_type": "stream",
     "text": [
      "[1 2]\n",
      "[4 5]\n",
      "greater\n",
      "[False False]\n",
      "greater equl\n",
      "[False False]\n",
      "lesser\n",
      "[ True  True]\n",
      "lesserequal\n",
      "[ True  True]\n"
     ]
    }
   ],
   "source": [
    "import numpy as np\n",
    "a=np.array([1,2])\n",
    "b=np.array([4,5])\n",
    "print(a)\n",
    "print(b)\n",
    "print(\"greater\")\n",
    "print(np.greater(a,b))\n",
    "print(\"greater equl\")\n",
    "print(np.greater_equal(a,b))\n",
    "print(\"lesser\")\n",
    "print(np.less(a,b))\n",
    "print(\"lesserequal\")\n",
    "print(np.less_equal(a,b))"
   ]
  },
  {
   "cell_type": "code",
   "execution_count": null,
   "id": "f4ad4845-dc9e-47fe-882e-95c757165e5a",
   "metadata": {},
   "outputs": [],
   "source": []
  },
  {
   "cell_type": "code",
   "execution_count": null,
   "id": "e42457ae-f355-4252-be16-55523f76e0eb",
   "metadata": {},
   "outputs": [],
   "source": []
  }
 ],
 "metadata": {
  "kernelspec": {
   "display_name": "Python 3 (ipykernel)",
   "language": "python",
   "name": "python3"
  },
  "language_info": {
   "codemirror_mode": {
    "name": "ipython",
    "version": 3
   },
   "file_extension": ".py",
   "mimetype": "text/x-python",
   "name": "python",
   "nbconvert_exporter": "python",
   "pygments_lexer": "ipython3",
   "version": "3.9.12"
  }
 },
 "nbformat": 4,
 "nbformat_minor": 5
}
